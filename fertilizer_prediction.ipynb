{
  "nbformat": 4,
  "nbformat_minor": 0,
  "metadata": {
    "colab": {
      "provenance": []
    },
    "kernelspec": {
      "name": "python3",
      "display_name": "Python 3"
    },
    "language_info": {
      "name": "python"
    }
  },
  "cells": [
    {
      "cell_type": "markdown",
      "source": [],
      "metadata": {
        "id": "bVIcCZEnOcMO"
      }
    },
    {
      "cell_type": "code",
      "execution_count": 5,
      "metadata": {
        "colab": {
          "base_uri": "https://localhost:8080/"
        },
        "id": "FlXLW1E4mkBC",
        "outputId": "1af5c681-75ba-49c0-a1d2-fc90a84a859d"
      },
      "outputs": [
        {
          "output_type": "stream",
          "name": "stdout",
          "text": [
            "Accuracy: 95.00%\n",
            "Enter temperature: 13\n",
            "Enter humidity: 5\n",
            "Enter moisture: 3\n",
            "Enter soil type: loamy\n",
            "Enter crop type: rice\n",
            "Enter nitrogen: 7\n",
            "Enter potassium: 14\n",
            "Enter phosphorus: 13\n",
            "The recommended fertilizer is: 17-17-17\n"
          ]
        }
      ],
      "source": [
        "import pandas as pd\n",
        "from sklearn.model_selection import train_test_split\n",
        "from sklearn.ensemble import RandomForestClassifier\n",
        "from sklearn.metrics import accuracy_score\n",
        "\n",
        "# Load the dataset\n",
        "# Edit this path to your dataset\n",
        "data = pd.read_csv('/content/drive/MyDrive/UntitledFolder/FertilizerPrediction.csv')\n",
        "\n",
        "# Define features and target variable\n",
        "# Updated the column names based on the actual names in the dataset\n",
        "X = data[['Temparature', 'Humidity ', 'Moisture', 'Soil Type', 'Crop Type', 'Nitrogen', 'Potassium', 'Phosphorous']]\n",
        "y = data['Fertilizer Name']\n",
        "\n",
        "# Convert categorical variables to numerical using one-hot encoding\n",
        "X = pd.get_dummies(X, columns=['Soil Type', 'Crop Type'], drop_first=True)\n",
        "\n",
        "# Split the dataset into training and testing sets\n",
        "X_train, X_test, y_train, y_test = train_test_split(X, y, test_size=0.2, random_state=42)\n",
        "\n",
        "# Create and train the Random Forest Classifier model\n",
        "model = RandomForestClassifier(n_estimators=100, random_state=42)\n",
        "model.fit(X_train, y_train)\n",
        "\n",
        "# Make predictions and evaluate the model\n",
        "y_pred = model.predict(X_test)\n",
        "accuracy = accuracy_score(y_test, y_pred)\n",
        "print(f'Accuracy: {accuracy * 100:.2f}%')\n",
        "\n",
        "# Function to predict fertilizer\n",
        "def predict_fertilizer(temperature, humidity, moisture, soil_type, crop_type, nitrogen, potassium, phosphorous):\n",
        "    # Create a DataFrame for the input data\n",
        "    input_data = pd.DataFrame([[temperature, humidity, moisture, soil_type, crop_type, nitrogen, potassium, phosphorous]],\n",
        "                               columns=['Temparature', 'Humidity ', 'Moisture', 'Soil Type', 'Crop Type', 'Nitrogen', 'Potassium', 'Phosphorous'])\n",
        "\n",
        "    # Apply one-hot encoding to the categorical features\n",
        "    input_data = pd.get_dummies(input_data, columns=['Soil Type', 'Crop Type'], drop_first=True)\n",
        "\n",
        "    # Align the columns of the input data with the training data\n",
        "    missing_cols = set(X_train.columns) - set(input_data.columns)\n",
        "    for col in missing_cols:\n",
        "        input_data[col] = 0\n",
        "    input_data = input_data[X_train.columns]\n",
        "\n",
        "    # Make prediction\n",
        "    prediction = model.predict(input_data)\n",
        "    return prediction[0]\n",
        "\n",
        "# Example usage\n",
        "# Replace the parameters with actual values\n",
        "t = input('Enter temperature: ')\n",
        "h = input('Enter humidity: ')\n",
        "m = input('Enter moisture: ')\n",
        "s = input('Enter soil type: ')\n",
        "c = input('Enter crop type: ')\n",
        "n = input('Enter nitrogen: ')\n",
        "k = input('Enter potassium: ')\n",
        "p = input('Enter phosphorus: ')\n",
        "predicted_fertilizer = predict_fertilizer(t, h, m, s, c, n, k, p)\n",
        "print(f'The recommended fertilizer is: {predicted_fertilizer}')"
      ]
    },
    {
      "cell_type": "code",
      "source": [
        "from google.colab import drive\n",
        "drive.mount('/content/drive')"
      ],
      "metadata": {
        "id": "4CaZhBhL5H4w",
        "colab": {
          "base_uri": "https://localhost:8080/"
        },
        "outputId": "b31cc1bf-42c9-4986-c62e-f7675fd68fb2"
      },
      "execution_count": 2,
      "outputs": [
        {
          "output_type": "stream",
          "name": "stdout",
          "text": [
            "Mounted at /content/drive\n"
          ]
        }
      ]
    }
  ]
}